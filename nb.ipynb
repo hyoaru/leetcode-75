{
 "cells": [
  {
   "cell_type": "markdown",
   "metadata": {},
   "source": [
    "# Leetcode 75"
   ]
  },
  {
   "cell_type": "markdown",
   "metadata": {},
   "source": [
    "## Array/String"
   ]
  },
  {
   "cell_type": "markdown",
   "metadata": {},
   "source": [
    "### Merge strings alternatively\n",
    "**Difficulty: easy**\n",
    "\n",
    "You are given two strings word1 and word2. Merge the strings by adding letters in alternating order, starting with word1. If a string is longer than the other, append the additional letters onto the end of the merged string.\n",
    "\n",
    "Return the merged string.\n",
    "\n",
    "Example 1:\n",
    "\n",
    "* Input: word1 = \"abc\", word2 = \"pqr\"\n",
    "* Output: \"apbqcr\"\n",
    "* Explanation: The merged string will be merged as so:\n",
    "  * word1:  a   b   c \n",
    "  * word2:    p   q   r\n",
    "  * merged: a p b q c r\n",
    "\n",
    "\n",
    "Example 2:\n",
    "\n",
    "* Input: word1 = \"ab\", word2 = \"pqrs\"\n",
    "* Output: \"apbqrs\"\n",
    "* Explanation: Notice that as word2 is longer, \"rs\" is appended to the end.\n",
    "  * word1:  a   b \n",
    "  * word2:    p   q   r   s\n",
    "  * merged: a p b q   r   s\n",
    "\n",
    "Example 3:\n",
    "\n",
    "* Input: word1 = \"abcd\", word2 = \"pq\"\n",
    "* Output: \"apbqcd\"\n",
    "* Explanation: Notice that as word1 is longer, \"cd\" is appended to the end.\n",
    "  * word1:  a   b   c   d\n",
    "  * word2:    p   q \n",
    "  * merged: a p b q c   d\n"
   ]
  },
  {
   "cell_type": "code",
   "execution_count": 5,
   "metadata": {},
   "outputs": [
    {
     "name": "stdout",
     "output_type": "stream",
     "text": [
      "apbqcr\n"
     ]
    }
   ],
   "source": [
    "str1 = \"abc\"\n",
    "str2 = \"pqr\"\n",
    "\n",
    "index_str1, index_str2 = 0, 0\n",
    "merged_string = \"\"\n",
    "\n",
    "while (index_str1 < len(str1)) or (index_str2 < len(str2)):\n",
    "  if index_str1 < len(str1):\n",
    "    merged_string += str1[index_str1]\n",
    "    index_str1 += 1\n",
    "\n",
    "  if index_str2 < len(str2):\n",
    "    merged_string += str2[index_str2]\n",
    "    index_str2 += 1\n",
    "\n",
    "print(merged_string)"
   ]
  },
  {
   "cell_type": "markdown",
   "metadata": {},
   "source": [
    "### Greatest Common Divisor of Strings\n",
    "\n",
    "**Difficulty: easy**\n",
    "\n",
    "For two strings s and t, we say \"t divides s\" if and only if s = t + t + t + ... + t + t (i.e., t is concatenated with itself one or more times).\n",
    "\n",
    "Given two strings str1 and str2, return the largest string x such that x divides both str1 and str2.\n",
    " \n",
    "Example 1:\n",
    "\n",
    "* Input: str1 = \"ABCABC\", str2 = \"ABC\"\n",
    "* Output: \"ABC\"\n",
    "\n",
    "Example 2:\n",
    "\n",
    "* Input: str1 = \"ABABAB\", str2 = \"ABAB\"\n",
    "* Output: \"AB\"\n",
    "\n",
    "Example 3:\n",
    "\n",
    "* Input: str1 = \"LEET\", str2 = \"CODE\"\n",
    "* Output: \"\"\n",
    "\n"
   ]
  },
  {
   "cell_type": "code",
   "execution_count": 34,
   "metadata": {},
   "outputs": [
    {
     "name": "stdout",
     "output_type": "stream",
     "text": [
      "4 ABAB\n",
      "3 ABA\n",
      "2 AB  <-\n",
      "1 A\n"
     ]
    }
   ],
   "source": [
    "str1 = \"ABABAB\"\n",
    "str2 = \"ABAB\"\n",
    "\n",
    "min_str = min(str1, str2)\n",
    "\n",
    "def isDivisor(index_from_start: int):\n",
    "  is_index_range_divisible_str1 = len(str1) % index_from_start == 0\n",
    "  is_index_range_divisible_str2 = len(str2) % index_from_start == 0\n",
    "\n",
    "  if not is_index_range_divisible_str1 or not is_index_range_divisible_str2:\n",
    "    return False\n",
    "\n",
    "  multiplier_str1 = len(str1) // index_from_start\n",
    "  multiplier_str2 = len(str2) // index_from_start\n",
    "\n",
    "  asserted_str1 = min_str[:index_from_start] * multiplier_str1\n",
    "  asserted_str2 = min_str[:index_from_start] * multiplier_str2\n",
    "\n",
    "  return asserted_str1 == str1 and asserted_str2 == str2\n",
    "\n",
    "for index_from_start in range(len(min_str), 0, -1):\n",
    "  if isDivisor(index_from_start):\n",
    "    print(f\"{index_from_start} {min_str[:index_from_start]}  <-\")\n",
    "  else:\n",
    "    print(f\"{index_from_start} {min_str[:index_from_start]}\")"
   ]
  },
  {
   "cell_type": "markdown",
   "metadata": {},
   "source": [
    "### Kids With the Greatest Number of Candies\n",
    "\n",
    "**Difficulty: easy**\n",
    "\n",
    "There are n kids with candies. You are given an integer array candies, where each candies[i] represents the number of candies the ith kid has, and an integer extraCandies, denoting the number of extra candies that you have.\n",
    "\n",
    "Return a boolean array result of length n, where result[i] is true if, after giving the ith kid all the extraCandies, they will have the greatest number of candies among all the kids, or false otherwise.\n",
    "\n",
    "Note that multiple kids can have the greatest number of candies.\n",
    "\n",
    " \n",
    "\n",
    "Example 1:\n",
    "\n",
    "* Input: candies = [2,3,5,1,3], extraCandies = 3\n",
    "* Output: [true,true,true,false,true] \n",
    "* Explanation: If you give all extraCandies to:\n",
    "  * - Kid 1, they will have 2 + 3 = 5 candies, which is the greatest among the kids.\n",
    "  * - Kid 2, they will have 3 + 3 = 6 candies, which is the greatest among the kids.\n",
    "  * - Kid 3, they will have 5 + 3 = 8 candies, which is the greatest among the kids.\n",
    "  * - Kid 4, they will have 1 + 3 = 4 candies, which is not the greatest among the kids.\n",
    "  * - Kid 5, they will have 3 + 3 = 6 candies, which is the greatest among the kids.\n",
    "\n",
    "Example 2:\n",
    "\n",
    "* Input: candies = [4,2,1,1,2], extraCandies = 1\n",
    "* Output: [true,false,false,false,false] \n",
    "* Explanation: There is only 1 extra candy.\n",
    "* Kid 1 will always have the greatest number of candies, even if a different kid is given the extra candy.\n",
    "\n",
    "Example 3:\n",
    "\n",
    "* Input: candies = [12,1,12], extraCandies = 10\n",
    "* Output: [true,false,true]\n"
   ]
  },
  {
   "cell_type": "code",
   "execution_count": 39,
   "metadata": {},
   "outputs": [
    {
     "data": {
      "text/plain": [
       "[True, True, True, False, True]"
      ]
     },
     "execution_count": 39,
     "metadata": {},
     "output_type": "execute_result"
    }
   ],
   "source": [
    "candies = [2,3,5,1,3]\n",
    "extra_candies = 3\n",
    "\n",
    "[candy + extra_candies >= max(candies) for candy in candies]"
   ]
  },
  {
   "cell_type": "markdown",
   "metadata": {},
   "source": [
    "### Can Place Flowers\n",
    "\n",
    "**Difficult: easy**\n",
    "\n",
    "You have a long flowerbed in which some of the plots are planted, and some are not. However, flowers cannot be planted in adjacent plots.\n",
    "\n",
    "Given an integer array flowerbed containing 0's and 1's, where 0 means empty and 1 means not empty, and an integer n, return true if n new flowers can be planted in the flowerbed without violating the no-adjacent-flowers rule and false otherwise.\n",
    "\n",
    " \n",
    "\n",
    "Example 1:\n",
    "\n",
    "* Input: flowerbed = [1,0,0,0,1], n = 1\n",
    "* Output: true\n",
    "\n",
    "Example 2:\n",
    "\n",
    "* Input: flowerbed = [1,0,0,0,1], n = 2\n",
    "* Output: false\n",
    "\n"
   ]
  },
  {
   "cell_type": "code",
   "execution_count": 57,
   "metadata": {},
   "outputs": [
    {
     "name": "stdout",
     "output_type": "stream",
     "text": [
      "[0, 0, 0, 1, 0, 0, 0]\n",
      "True\n"
     ]
    }
   ],
   "source": [
    "flowerbed = [1,0,0,0,1,0,1,0,0]\n",
    "n = 2\n",
    "\n",
    "modified_flowerbed = [0] + flowerbed + [0]\n",
    "for i in range(1, len(modified_flowerbed) -1):\n",
    "  if n <= 0:\n",
    "    break\n",
    "\n",
    "  if modified_flowerbed[i-1] == 0 and modified_flowerbed[i] == 0 and modified_flowerbed[i+1] == 0:\n",
    "    modified_flowerbed[i] = 1\n",
    "    n -= 1\n",
    "\n",
    "print(modified_flowerbed)\n",
    "print(n == 0)\n",
    "\n"
   ]
  }
 ],
 "metadata": {
  "kernelspec": {
   "display_name": "dsa-py",
   "language": "python",
   "name": "python3"
  },
  "language_info": {
   "codemirror_mode": {
    "name": "ipython",
    "version": 3
   },
   "file_extension": ".py",
   "mimetype": "text/x-python",
   "name": "python",
   "nbconvert_exporter": "python",
   "pygments_lexer": "ipython3",
   "version": "3.12.4"
  }
 },
 "nbformat": 4,
 "nbformat_minor": 2
}
